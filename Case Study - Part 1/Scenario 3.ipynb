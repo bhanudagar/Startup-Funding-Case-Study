{
 "cells": [
  {
   "cell_type": "markdown",
   "metadata": {},
   "source": [
    "## Scenario 3- Funding amount\n",
    "\n",
    "Given File 'startup_funding.csv'\n",
    "#### Problem Statement :\n",
    "1. Find out if cities play any role in receiving funding.\n",
    "2. Find top 10 Indian cities with most amount of fundings received. Find out percentage of funding each city has got (among top 10 Indian cities only).\n",
    "3. Print the city and percentage with 2 decimal place after rounding off.\n",
    "#### Note:\n",
    "1. Take city name \"Delhi\" as \"New Delhi\".\n",
    "2. Check the case-sensitiveness of cities also. That means - at some place, instead of \"Bangalore\", \"bangalore\" is given. Take city name as \"Bangalore\".\n",
    "3. For few startups multiple locations are given, one Indian and one Foreign. Count those startups in Indian startup also. Indian city name is first.\n",
    "4. Print the city in descending order with respect to the percentage of funding.\n",
    "### Output Format :\n",
    "#### city1 percent1\n",
    "#### city2 percent2\n",
    "#### city3 percent3\n",
    "#### . . . \n",
    "#### . . .\n",
    "#### . . .\n"
   ]
  },
  {
   "cell_type": "code",
   "execution_count": 2,
   "metadata": {},
   "outputs": [],
   "source": [
    "import pandas as pd\n",
    "import numpy as np\n",
    "import matplotlib.pyplot as plt\n",
    "\n",
    "\n",
    "df = pd.read_csv(\"startup_funding.csv\")\n"
   ]
  },
  {
   "cell_type": "code",
   "execution_count": 3,
   "metadata": {},
   "outputs": [
    {
     "data": {
      "text/html": [
       "<div>\n",
       "<style scoped>\n",
       "    .dataframe tbody tr th:only-of-type {\n",
       "        vertical-align: middle;\n",
       "    }\n",
       "\n",
       "    .dataframe tbody tr th {\n",
       "        vertical-align: top;\n",
       "    }\n",
       "\n",
       "    .dataframe thead th {\n",
       "        text-align: right;\n",
       "    }\n",
       "</style>\n",
       "<table border=\"1\" class=\"dataframe\">\n",
       "  <thead>\n",
       "    <tr style=\"text-align: right;\">\n",
       "      <th></th>\n",
       "      <th>SNo</th>\n",
       "      <th>Date</th>\n",
       "      <th>StartupName</th>\n",
       "      <th>IndustryVertical</th>\n",
       "      <th>SubVertical</th>\n",
       "      <th>CityLocation</th>\n",
       "      <th>InvestorsName</th>\n",
       "      <th>InvestmentType</th>\n",
       "      <th>AmountInUSD</th>\n",
       "      <th>Remarks</th>\n",
       "    </tr>\n",
       "  </thead>\n",
       "  <tbody>\n",
       "    <tr>\n",
       "      <th>0</th>\n",
       "      <td>0</td>\n",
       "      <td>01/08/2017</td>\n",
       "      <td>TouchKin</td>\n",
       "      <td>Technology</td>\n",
       "      <td>Predictive Care Platform</td>\n",
       "      <td>Bangalore</td>\n",
       "      <td>Kae Capital</td>\n",
       "      <td>Private Equity</td>\n",
       "      <td>1,300,000</td>\n",
       "      <td>NaN</td>\n",
       "    </tr>\n",
       "    <tr>\n",
       "      <th>1</th>\n",
       "      <td>1</td>\n",
       "      <td>02/08/2017</td>\n",
       "      <td>Ethinos</td>\n",
       "      <td>Technology</td>\n",
       "      <td>Digital Marketing Agency</td>\n",
       "      <td>Mumbai</td>\n",
       "      <td>Triton Investment Advisors</td>\n",
       "      <td>Private Equity</td>\n",
       "      <td>NaN</td>\n",
       "      <td>NaN</td>\n",
       "    </tr>\n",
       "    <tr>\n",
       "      <th>2</th>\n",
       "      <td>2</td>\n",
       "      <td>02/08/2017</td>\n",
       "      <td>Leverage Edu</td>\n",
       "      <td>Consumer Internet</td>\n",
       "      <td>Online platform for Higher Education Services</td>\n",
       "      <td>New Delhi</td>\n",
       "      <td>Kashyap Deorah, Anand Sankeshwar, Deepak Jain,...</td>\n",
       "      <td>Seed Funding</td>\n",
       "      <td>NaN</td>\n",
       "      <td>NaN</td>\n",
       "    </tr>\n",
       "    <tr>\n",
       "      <th>3</th>\n",
       "      <td>3</td>\n",
       "      <td>02/08/2017</td>\n",
       "      <td>Zepo</td>\n",
       "      <td>Consumer Internet</td>\n",
       "      <td>DIY Ecommerce platform</td>\n",
       "      <td>Mumbai</td>\n",
       "      <td>Kunal Shah, LetsVenture, Anupam Mittal, Hetal ...</td>\n",
       "      <td>Seed Funding</td>\n",
       "      <td>500,000</td>\n",
       "      <td>NaN</td>\n",
       "    </tr>\n",
       "    <tr>\n",
       "      <th>4</th>\n",
       "      <td>4</td>\n",
       "      <td>02/08/2017</td>\n",
       "      <td>Click2Clinic</td>\n",
       "      <td>Consumer Internet</td>\n",
       "      <td>healthcare service aggregator</td>\n",
       "      <td>Hyderabad</td>\n",
       "      <td>Narottam Thudi, Shireesh Palle</td>\n",
       "      <td>Seed Funding</td>\n",
       "      <td>850,000</td>\n",
       "      <td>NaN</td>\n",
       "    </tr>\n",
       "  </tbody>\n",
       "</table>\n",
       "</div>"
      ],
      "text/plain": [
       "   SNo        Date   StartupName   IndustryVertical  \\\n",
       "0    0  01/08/2017      TouchKin         Technology   \n",
       "1    1  02/08/2017       Ethinos         Technology   \n",
       "2    2  02/08/2017  Leverage Edu  Consumer Internet   \n",
       "3    3  02/08/2017          Zepo  Consumer Internet   \n",
       "4    4  02/08/2017  Click2Clinic  Consumer Internet   \n",
       "\n",
       "                                     SubVertical CityLocation  \\\n",
       "0                       Predictive Care Platform    Bangalore   \n",
       "1                       Digital Marketing Agency       Mumbai   \n",
       "2  Online platform for Higher Education Services    New Delhi   \n",
       "3                         DIY Ecommerce platform       Mumbai   \n",
       "4                  healthcare service aggregator    Hyderabad   \n",
       "\n",
       "                                       InvestorsName  InvestmentType  \\\n",
       "0                                        Kae Capital  Private Equity   \n",
       "1                         Triton Investment Advisors  Private Equity   \n",
       "2  Kashyap Deorah, Anand Sankeshwar, Deepak Jain,...    Seed Funding   \n",
       "3  Kunal Shah, LetsVenture, Anupam Mittal, Hetal ...    Seed Funding   \n",
       "4                     Narottam Thudi, Shireesh Palle    Seed Funding   \n",
       "\n",
       "  AmountInUSD Remarks  \n",
       "0   1,300,000     NaN  \n",
       "1         NaN     NaN  \n",
       "2         NaN     NaN  \n",
       "3     500,000     NaN  \n",
       "4     850,000     NaN  "
      ]
     },
     "execution_count": 3,
     "metadata": {},
     "output_type": "execute_result"
    }
   ],
   "source": [
    "df.head()"
   ]
  },
  {
   "cell_type": "code",
   "execution_count": 4,
   "metadata": {},
   "outputs": [
    {
     "name": "stdout",
     "output_type": "stream",
     "text": [
      "Bangalore 8422974108 \n",
      "New Delhi 2818247500 \n",
      "Mumbai 2354934500 \n",
      "Gurgaon 2069021500 \n",
      " 1271863868 \n",
      "Chennai 411105000 \n",
      "Pune 366653000 \n",
      "Hyderabad 195362000 \n",
      "Noida 170638000 \n",
      "Ahmedabad 98186000 \n"
     ]
    }
   ],
   "source": [
    "city_amount = {}\n",
    "\n",
    "df.CityLocation.fillna('', inplace = True)\n",
    "\n",
    "def return_indian_city(city):\n",
    "    return city.split('/')[0].strip()\n",
    "\n",
    "df['CityLocation'] = df['CityLocation'].apply(return_indian_city)\n",
    "\n",
    "df['CityLocation'].replace(\"Delhi\", \"New Delhi\", inplace = True)\n",
    "df['CityLocation'].replace(\"bangalore\", \"Bangalore\", inplace = True)\n",
    "\n",
    "df[\"AmountInUSD\"].fillna('0', inplace = True)\n",
    "\n",
    "city = np.array(df['CityLocation'])\n",
    "amount = np.array(df['AmountInUSD'])\n",
    "\n",
    "# removing commas from amount\n",
    "for i in range(len(amount)):\n",
    "    amt = amount[i].split(',')\n",
    "    ans = ''\n",
    "    for j in amt:\n",
    "        ans += j\n",
    "    \n",
    "    amount[i] = ans\n",
    "    \n",
    "amount = np.array(amount, dtype = float)\n",
    "amount = np.array(amount, dtype = int)\n",
    "\n",
    "for i in range(len(city)):\n",
    "    a = city[i]\n",
    "    city_amount[a] = city_amount.get(a, 0) + amount[i]\n",
    "    \n",
    "    \n",
    "ans = sorted(city_amount.items(), key = lambda x:x[1], reverse = True)[:10]\n",
    "\n",
    "for i in ans:\n",
    "    for val in i:\n",
    "        print(val, end = \" \")\n",
    "    print()"
   ]
  },
  {
   "cell_type": "markdown",
   "metadata": {},
   "source": [
    "### The fifth state is a null state, so we have to collect top 11 cities now and remove this null state from them. After this, we have to again check if all the states are indian or not."
   ]
  },
  {
   "cell_type": "code",
   "execution_count": 5,
   "metadata": {},
   "outputs": [
    {
     "name": "stdout",
     "output_type": "stream",
     "text": [
      "Bangalore 8422974108 \n",
      "New Delhi 2818247500 \n",
      "Mumbai 2354934500 \n",
      "Gurgaon 2069021500 \n",
      "Chennai 411105000 \n",
      "Pune 366653000 \n",
      "Hyderabad 195362000 \n",
      "Noida 170638000 \n",
      "Ahmedabad 98186000 \n",
      "Jaipur 35560000 \n"
     ]
    }
   ],
   "source": [
    "ans = sorted(city_amount.items(), key = lambda x:x[1], reverse = True)[:11]\n",
    "\n",
    "a = ans[:4]\n",
    "b = ans[5:]\n",
    "ans = a + b\n",
    "\n",
    "for i in ans:\n",
    "    for val in i:\n",
    "        print(val, end = \" \")\n",
    "    print()"
   ]
  },
  {
   "cell_type": "markdown",
   "metadata": {},
   "source": [
    "### Now we need to print these cities with their percentage share in the top 10"
   ]
  },
  {
   "cell_type": "code",
   "execution_count": 8,
   "metadata": {},
   "outputs": [
    {
     "name": "stdout",
     "output_type": "stream",
     "text": [
      "Bangalore 49.71\n",
      "New Delhi 16.63\n",
      "Mumbai 13.9\n",
      "Gurgaon 12.21\n",
      "Chennai 2.43\n",
      "Pune 2.16\n",
      "Hyderabad 1.15\n",
      "Noida 1.01\n",
      "Ahmedabad 0.58\n",
      "Jaipur 0.21\n"
     ]
    },
    {
     "data": {
      "image/png": "[encoded data removed]",
      "text/plain": [
       "<Figure size 432x288 with 1 Axes>"
      ]
     },
     "metadata": {},
     "output_type": "display_data"
    }
   ],
   "source": [
    "total = 0\n",
    "for i in ans:\n",
    "    total += i[1]\n",
    "    \n",
    "city = []\n",
    "amount_percentage = []\n",
    "for i in ans:\n",
    "    current_percentage = (i[1] / total) * 100\n",
    "    city.append(i[0])\n",
    "    amount_percentage.append(round(current_percentage, 2))\n",
    "    \n",
    "    \n",
    "for i in range(10):\n",
    "    print(city[i], amount_percentage[i])\n",
    "\n",
    "patches, texts = plt.pie(amount_percentage)\n",
    "\n",
    "labels = ['{0} - {1:1.2f} %'.format(i, j) for i, j in zip(city, amount_percentage)]\n",
    "\n",
    "sort_legend = True\n",
    "if sort_legend:\n",
    "    patches, labels, dummy = zip(*sorted(zip(patches, labels, city_amount),\n",
    "                                        key = lambda x: x[2],\n",
    "                                        reverse = True))\n",
    "    \n",
    "\n",
    "\n",
    "plt.legend(patches, labels, bbox_to_anchor = (-0.1, 1.),\n",
    "          fontsize = 8)\n",
    "\n",
    "\n",
    "plt.title(\"City-Amount Distribution\")\n",
    "plt.show()"
   ]
  },
  {
   "cell_type": "code",
   "execution_count": null,
   "metadata": {},
   "outputs": [],
   "source": []
  }
 ],
 "metadata": {
  "kernelspec": {
   "display_name": "Python 3",
   "language": "python",
   "name": "python3"
  },
  "language_info": {
   "codemirror_mode": {
    "name": "ipython",
    "version": 3
   },
   "file_extension": ".py",
   "mimetype": "text/x-python",
   "name": "python",
   "nbconvert_exporter": "python",
   "pygments_lexer": "ipython3",
   "version": "3.7.6"
  }
 },
 "nbformat": 4,
 "nbformat_minor": 4
}
