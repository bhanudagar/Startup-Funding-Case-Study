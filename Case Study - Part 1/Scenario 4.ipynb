{
 "cells": [
  {
   "cell_type": "markdown",
   "metadata": {},
   "source": [
    "## Scenario 4 - Investment Type\n",
    "\n",
    "Given File 'startup_funding.csv'\n",
    "#### Problem Statement :\n",
    "1. There are 4 different type of investments. Find out percentage of amount funded for each investment type.\n",
    "2. Plot a pie chart to visualise.\n",
    "3. Print the investment type and percentage of amount funded with 2 decimal places after rounding off.\n",
    "#### Note:\n",
    "1. Correct spelling of investment types are - \"Private Equity\", \"Seed Funding\", \"Debt Funding\", and \"Crowd Funding\". \n",
    "2. Keep an eye for any spelling mistake. You can find this by printing unique values from this column.\n",
    "3. Print the investment type in descending order with respect to the percentage of the amount funded.\n",
    "### Output Format :\n",
    "#### city1 percent1\n",
    "#### city2 percent2\n",
    "#### city3 percent3\n",
    "#### . . . \n",
    "#### . . .\n",
    "#### . . .\n",
    "\n"
   ]
  },
  {
   "cell_type": "code",
   "execution_count": 25,
   "metadata": {},
   "outputs": [
    {
     "data": {
      "text/html": [
       "<div>\n",
       "<style scoped>\n",
       "    .dataframe tbody tr th:only-of-type {\n",
       "        vertical-align: middle;\n",
       "    }\n",
       "\n",
       "    .dataframe tbody tr th {\n",
       "        vertical-align: top;\n",
       "    }\n",
       "\n",
       "    .dataframe thead th {\n",
       "        text-align: right;\n",
       "    }\n",
       "</style>\n",
       "<table border=\"1\" class=\"dataframe\">\n",
       "  <thead>\n",
       "    <tr style=\"text-align: right;\">\n",
       "      <th></th>\n",
       "      <th>SNo</th>\n",
       "      <th>Date</th>\n",
       "      <th>StartupName</th>\n",
       "      <th>IndustryVertical</th>\n",
       "      <th>SubVertical</th>\n",
       "      <th>CityLocation</th>\n",
       "      <th>InvestorsName</th>\n",
       "      <th>InvestmentType</th>\n",
       "      <th>AmountInUSD</th>\n",
       "      <th>Remarks</th>\n",
       "    </tr>\n",
       "  </thead>\n",
       "  <tbody>\n",
       "    <tr>\n",
       "      <th>0</th>\n",
       "      <td>0</td>\n",
       "      <td>01/08/2017</td>\n",
       "      <td>TouchKin</td>\n",
       "      <td>Technology</td>\n",
       "      <td>Predictive Care Platform</td>\n",
       "      <td>Bangalore</td>\n",
       "      <td>Kae Capital</td>\n",
       "      <td>Private Equity</td>\n",
       "      <td>1,300,000</td>\n",
       "      <td>NaN</td>\n",
       "    </tr>\n",
       "    <tr>\n",
       "      <th>1</th>\n",
       "      <td>1</td>\n",
       "      <td>02/08/2017</td>\n",
       "      <td>Ethinos</td>\n",
       "      <td>Technology</td>\n",
       "      <td>Digital Marketing Agency</td>\n",
       "      <td>Mumbai</td>\n",
       "      <td>Triton Investment Advisors</td>\n",
       "      <td>Private Equity</td>\n",
       "      <td>NaN</td>\n",
       "      <td>NaN</td>\n",
       "    </tr>\n",
       "    <tr>\n",
       "      <th>2</th>\n",
       "      <td>2</td>\n",
       "      <td>02/08/2017</td>\n",
       "      <td>Leverage Edu</td>\n",
       "      <td>Consumer Internet</td>\n",
       "      <td>Online platform for Higher Education Services</td>\n",
       "      <td>New Delhi</td>\n",
       "      <td>Kashyap Deorah, Anand Sankeshwar, Deepak Jain,...</td>\n",
       "      <td>Seed Funding</td>\n",
       "      <td>NaN</td>\n",
       "      <td>NaN</td>\n",
       "    </tr>\n",
       "    <tr>\n",
       "      <th>3</th>\n",
       "      <td>3</td>\n",
       "      <td>02/08/2017</td>\n",
       "      <td>Zepo</td>\n",
       "      <td>Consumer Internet</td>\n",
       "      <td>DIY Ecommerce platform</td>\n",
       "      <td>Mumbai</td>\n",
       "      <td>Kunal Shah, LetsVenture, Anupam Mittal, Hetal ...</td>\n",
       "      <td>Seed Funding</td>\n",
       "      <td>500,000</td>\n",
       "      <td>NaN</td>\n",
       "    </tr>\n",
       "    <tr>\n",
       "      <th>4</th>\n",
       "      <td>4</td>\n",
       "      <td>02/08/2017</td>\n",
       "      <td>Click2Clinic</td>\n",
       "      <td>Consumer Internet</td>\n",
       "      <td>healthcare service aggregator</td>\n",
       "      <td>Hyderabad</td>\n",
       "      <td>Narottam Thudi, Shireesh Palle</td>\n",
       "      <td>Seed Funding</td>\n",
       "      <td>850,000</td>\n",
       "      <td>NaN</td>\n",
       "    </tr>\n",
       "  </tbody>\n",
       "</table>\n",
       "</div>"
      ],
      "text/plain": [
       "   SNo        Date   StartupName   IndustryVertical  \\\n",
       "0    0  01/08/2017      TouchKin         Technology   \n",
       "1    1  02/08/2017       Ethinos         Technology   \n",
       "2    2  02/08/2017  Leverage Edu  Consumer Internet   \n",
       "3    3  02/08/2017          Zepo  Consumer Internet   \n",
       "4    4  02/08/2017  Click2Clinic  Consumer Internet   \n",
       "\n",
       "                                     SubVertical CityLocation  \\\n",
       "0                       Predictive Care Platform    Bangalore   \n",
       "1                       Digital Marketing Agency       Mumbai   \n",
       "2  Online platform for Higher Education Services    New Delhi   \n",
       "3                         DIY Ecommerce platform       Mumbai   \n",
       "4                  healthcare service aggregator    Hyderabad   \n",
       "\n",
       "                                       InvestorsName  InvestmentType  \\\n",
       "0                                        Kae Capital  Private Equity   \n",
       "1                         Triton Investment Advisors  Private Equity   \n",
       "2  Kashyap Deorah, Anand Sankeshwar, Deepak Jain,...    Seed Funding   \n",
       "3  Kunal Shah, LetsVenture, Anupam Mittal, Hetal ...    Seed Funding   \n",
       "4                     Narottam Thudi, Shireesh Palle    Seed Funding   \n",
       "\n",
       "  AmountInUSD Remarks  \n",
       "0   1,300,000     NaN  \n",
       "1         NaN     NaN  \n",
       "2         NaN     NaN  \n",
       "3     500,000     NaN  \n",
       "4     850,000     NaN  "
      ]
     },
     "execution_count": 25,
     "metadata": {},
     "output_type": "execute_result"
    }
   ],
   "source": [
    "import pandas as pd\n",
    "import matplotlib.pyplot as plt\n",
    "\n",
    "df = pd.read_csv('startup_funding.csv')\n",
    "df.head()"
   ]
  },
  {
   "cell_type": "code",
   "execution_count": 26,
   "metadata": {},
   "outputs": [
    {
     "data": {
      "text/plain": [
       "{'Private Equity': 18006085000,\n",
       " 'Seed Funding': 322338108,\n",
       " 'Debt Funding': 7800000,\n",
       " '': 0,\n",
       " 'SeedFunding': 10007600,\n",
       " 'PrivateEquity': 1000000,\n",
       " 'Crowd funding': 125000,\n",
       " 'Crowd Funding': 30768}"
      ]
     },
     "execution_count": 26,
     "metadata": {},
     "output_type": "execute_result"
    }
   ],
   "source": [
    "investment_type = {}\n",
    "\n",
    "types_of_investments = []\n",
    "amount = []\n",
    "\n",
    "df.AmountInUSD.fillna('', inplace = True)\n",
    "df.InvestmentType.fillna('', inplace = True)\n",
    "\n",
    "for i in df.AmountInUSD:\n",
    "    currAmt = ''\n",
    "    if i == '':\n",
    "        amount.append('0')\n",
    "        continue\n",
    "    a = i.split(',')\n",
    "    for j in a:\n",
    "        currAmt += j\n",
    "        \n",
    "    amount.append(currAmt)\n",
    "    \n",
    "for i in df.InvestmentType:\n",
    "    types_of_investments.append(i)\n",
    "    \n",
    "for i in range(len(amount)):\n",
    "    current_type = types_of_investments[i]\n",
    "    investment_type[current_type] = investment_type.get(current_type, 0) + int(float(amount[i]))\n",
    "\n",
    "investment_type"
   ]
  },
  {
   "cell_type": "markdown",
   "metadata": {},
   "source": [
    "### Now, we need to remove the '' value and correct the spelling mistakes as well"
   ]
  },
  {
   "cell_type": "code",
   "execution_count": 27,
   "metadata": {},
   "outputs": [],
   "source": [
    "df.InvestmentType.replace(\"Crowd funding\", \"Crowd Funding\", inplace = True)\n",
    "df.InvestmentType.replace(\"SeedFunding\", \"Seed Funding\", inplace = True)\n",
    "df.InvestmentType.replace(\"PrivateEquity\", \"Private Equity\", inplace = True)\n",
    "\n"
   ]
  },
  {
   "cell_type": "code",
   "execution_count": 28,
   "metadata": {},
   "outputs": [
    {
     "data": {
      "text/plain": [
       "{'Private Equity': 18007085000,\n",
       " 'Seed Funding': 332345708,\n",
       " 'Debt Funding': 7800000,\n",
       " 'Crowd Funding': 155768}"
      ]
     },
     "execution_count": 28,
     "metadata": {},
     "output_type": "execute_result"
    }
   ],
   "source": [
    "investment_type = {}\n",
    "\n",
    "types_of_investments = []\n",
    "amount = []\n",
    "\n",
    "df.AmountInUSD.fillna('', inplace = True)\n",
    "df.InvestmentType.fillna('', inplace = True)\n",
    "\n",
    "for i in df.AmountInUSD:\n",
    "    currAmt = ''\n",
    "    if i == '':\n",
    "        amount.append('0')\n",
    "        continue\n",
    "    a = i.split(',')\n",
    "    for j in a:\n",
    "        currAmt += j\n",
    "        \n",
    "    amount.append(currAmt)\n",
    "    \n",
    "for i in df.InvestmentType:\n",
    "    types_of_investments.append(i)\n",
    "    \n",
    "for i in range(len(amount)):\n",
    "    current_type = types_of_investments[i]\n",
    "    investment_type[current_type] = investment_type.get(current_type, 0) + int(float(amount[i]))\n",
    "\n",
    "investment_type.pop('')\n",
    "\n",
    "investment_type"
   ]
  },
  {
   "cell_type": "code",
   "execution_count": 35,
   "metadata": {},
   "outputs": [
    {
     "name": "stdout",
     "output_type": "stream",
     "text": [
      "Private Equity   98.15\n",
      "Seed Funding   1.81\n",
      "Debt Funding   0.04\n",
      "Crowd Funding   0.0\n"
     ]
    }
   ],
   "source": [
    "x = []\n",
    "y = []\n",
    "\n",
    "total = 0\n",
    "for key in investment_type:\n",
    "    total += investment_type[key]\n",
    "\n",
    "for key in investment_type:\n",
    "    x.append(key)\n",
    "    y.append((investment_type[key] / total) * 100)\n",
    "    \n",
    "for i in range(4):\n",
    "    print(x[i], \" \", round(y[i], 2))"
   ]
  },
  {
   "cell_type": "markdown",
   "metadata": {},
   "source": [
    "### Making a Pie Chart"
   ]
  },
  {
   "cell_type": "code",
   "execution_count": 36,
   "metadata": {},
   "outputs": [
    {
     "data": {
      "image/png": "[encoded data removed]",
      "text/plain": [
       "<Figure size 432x288 with 1 Axes>"
      ]
     },
     "metadata": {},
     "output_type": "display_data"
    }
   ],
   "source": [
    "plt.pie(y, explode = [0.1, 0.1, 0.5, 1], autopct = \"%.2f%%\")\n",
    "plt.axis(\"equal\")\n",
    "plt.legend(x)\n",
    "plt.show()"
   ]
  },
  {
   "cell_type": "code",
   "execution_count": null,
   "metadata": {},
   "outputs": [],
   "source": []
  }
 ],
 "metadata": {
  "kernelspec": {
   "display_name": "Python 3",
   "language": "python",
   "name": "python3"
  },
  "language_info": {
   "codemirror_mode": {
    "name": "ipython",
    "version": 3
   },
   "file_extension": ".py",
   "mimetype": "text/x-python",
   "name": "python",
   "nbconvert_exporter": "python",
   "pygments_lexer": "ipython3",
   "version": "3.7.6"
  }
 },
 "nbformat": 4,
 "nbformat_minor": 4
}
