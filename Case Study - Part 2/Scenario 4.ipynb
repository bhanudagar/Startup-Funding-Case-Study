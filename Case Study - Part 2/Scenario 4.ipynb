{
 "cells": [
  {
   "cell_type": "markdown",
   "metadata": {},
   "source": [
    "### Scenario 4\n",
    "Even after putting so much effort in finding the probable investors, it didn't turn out to be helpful for your friend. So you went to your investor friend to understand the situation better and your investor friend explained to you about the different Investment Types and their features. This new information will be helpful in finding the right investor. Since your friend startup is at an early stage startup, the best-suited investment type would be - Seed Funding and Crowdfunding. Find the top 5 investors who have invested in a different number of startups and their investment type is Crowdfunding or Seed Funding. Correct spelling of investment types are - \"Private Equity\", \"Seed Funding\", \"Debt Funding\", and \"Crowd Funding\". Keep an eye for any spelling mistake. You can find this by printing unique values from this column. There are many errors in startup names. Ignore correcting all, just handle the important ones - Ola, Flipkart, Oyo and Paytm."
   ]
  },
  {
   "cell_type": "code",
   "execution_count": 1,
   "metadata": {},
   "outputs": [],
   "source": [
    "import pandas as pd\n",
    "import numpy as np\n",
    "import matplotlib.pyplot as plt\n",
    "\n",
    "df = pd.read_csv(\"startup_funding.csv\")\n",
    "\n"
   ]
  },
  {
   "cell_type": "code",
   "execution_count": 2,
   "metadata": {},
   "outputs": [],
   "source": [
    "df[\"StartupName\"].replace(\"Olacabs\", \"Ola\", inplace = True)\n",
    "df[\"StartupName\"].replace(\"Ola Cabs\", \"Ola\", inplace = True)\n",
    "df[\"StartupName\"].replace(\"Olacabs\", \"Ola\", inplace = True)\n",
    "df[\"StartupName\"].replace(\"Oyorooms\", \"Oyo\", inplace = True)\n",
    "df[\"StartupName\"].replace(\"Oyo Rooms\", \"Oyo\", inplace = True)\n",
    "df[\"StartupName\"].replace(\"OYO Rooms\", \"Oyo\", inplace = True)\n",
    "df[\"StartupName\"].replace(\"OyoRooms\", \"Oyo\", inplace = True)\n",
    "df[\"StartupName\"].replace(\"OYOfit\", \"Oyo\", inplace = True)\n",
    "df[\"StartupName\"].replace(\"Flipkart.com\", \"Flipkart\", inplace = True)\n",
    "df[\"StartupName\"].replace(\"Paytm Marketplace\", \"Paytm\", inplace = True)\n",
    "\n"
   ]
  },
  {
   "cell_type": "code",
   "execution_count": 3,
   "metadata": {},
   "outputs": [],
   "source": [
    "df.dropna(subset=[\"InvestorsName\"], how=\"all\",inplace=True)\n",
    "df.dropna(subset=[\"InvestmentType\"], how=\"all\",inplace=True)\n",
    "df.dropna(subset=[\"StartupName\"], how=\"all\",inplace=True)"
   ]
  },
  {
   "cell_type": "code",
   "execution_count": 4,
   "metadata": {},
   "outputs": [],
   "source": [
    "df = df[(df[\"InvestmentType\"] == \"Seed Funding\") | (df[\"InvestmentType\"] == \"Crowd Funding\")]\n",
    "\n"
   ]
  },
  {
   "cell_type": "code",
   "execution_count": 5,
   "metadata": {},
   "outputs": [],
   "source": [
    "investors = np.array(df[\"InvestorsName\"])\n",
    "startup = np.array(df[\"StartupName\"])\n",
    "\n",
    "from collections import defaultdict\n",
    "d = defaultdict(list)\n",
    "\n",
    "for i in range(len(investors)):\n",
    "    currStartup = startup[i]\n",
    "    currInvestor = investors[i]\n",
    "    name = currInvestor.split(',')\n",
    "    for j in name:\n",
    "        j = j.strip()\n",
    "        if j == '' or j == ' ' or \"Undisclosed\" in j or \"undisclosed\" in j:\n",
    "            continue\n",
    "        d[j].append(currStartup)"
   ]
  },
  {
   "cell_type": "code",
   "execution_count": 6,
   "metadata": {},
   "outputs": [],
   "source": [
    "d2 = {}\n",
    "for i in d:\n",
    "    a = np.array(d[i])\n",
    "    d2[i] = len(np.unique(a))\n",
    "\n",
    "ans = sorted(d2.items(), key = lambda x:x[1], reverse = True)[:5]"
   ]
  },
  {
   "cell_type": "code",
   "execution_count": 7,
   "metadata": {},
   "outputs": [
    {
     "name": "stdout",
     "output_type": "stream",
     "text": [
      "Indian Angel Network 33\n",
      "Rajan Anandan 23\n",
      "LetsVenture 16\n",
      "Anupam Mittal 16\n",
      "Kunal Shah 14\n"
     ]
    }
   ],
   "source": [
    "st = []\n",
    "inv = []\n",
    "for i in ans:\n",
    "    print(i[0], i[1])\n",
    "    st.append(i[1])\n",
    "    inv.append(i[0])\n",
    "    "
   ]
  },
  {
   "cell_type": "code",
   "execution_count": 10,
   "metadata": {},
   "outputs": [
    {
     "data": {
      "image/png": "[encoded data removed]",
      "text/plain": [
       "<Figure size 432x288 with 1 Axes>"
      ]
     },
     "metadata": {},
     "output_type": "display_data"
    }
   ],
   "source": [
    "#VISUALIZATION\n",
    "\n",
    "# x = np.arange(5)\n",
    "# plt.bar(x, st, width = 0.5, color = \"Orange\")\n",
    "# plt.grid()\n",
    "# plt.xticks(x, inv, rotation = 40)\n",
    "# plt.title(\"Top Investors\")\n",
    "# plt.xlabel(\"Name of Investor\")\n",
    "# plt.ylabel(\"Number of times Invested\")\n",
    "# plt.show()\n",
    "\n",
    "# Pie chart\n",
    "plt.pie(st, labels = inv, colors = [\"darkcyan\", \"pink\", \"mediumseagreen\", \"deepskyblue\", \"firebrick\"], explode = [0.1, 0,0,0,0], autopct = \"%.2f %%\")\n",
    "plt.axis(\"equal\")\n",
    "plt.show()"
   ]
  },
  {
   "cell_type": "code",
   "execution_count": null,
   "metadata": {},
   "outputs": [],
   "source": []
  }
 ],
 "metadata": {
  "kernelspec": {
   "display_name": "Python 3",
   "language": "python",
   "name": "python3"
  },
  "language_info": {
   "codemirror_mode": {
    "name": "ipython",
    "version": 3
   },
   "file_extension": ".py",
   "mimetype": "text/x-python",
   "name": "python",
   "nbconvert_exporter": "python",
   "pygments_lexer": "ipython3",
   "version": "3.7.6"
  }
 },
 "nbformat": 4,
 "nbformat_minor": 4
}
