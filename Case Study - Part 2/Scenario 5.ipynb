{
 "cells": [
  {
   "cell_type": "markdown",
   "metadata": {},
   "source": [
    "### Scenario 5\n",
    "Due to your immense help, your friend startup successfully got seed funding and it is on the operational mode. Now your friend wants to expand his startup and he is looking for new investors for his startup. Now you again come as a saviour to help your friend and want to create a list of probable new new investors. Before moving forward you remember your investor friend advice that finding the investors by analysing the investment type. Since your friend startup is not in early phase it is in growth stage so the best-suited investment type is Private Equity. Find the top 5 investors who have invested in a different number of startups and their investment type is Private Equity. Correct spelling of investment types are - \"Private Equity\", \"Seed Funding\", \"Debt Funding\", and \"Crowd Funding\". Keep an eye for any spelling mistake. You can find this by printing unique values from this column.There are many errors in startup names. Ignore correcting all, just handle the important ones - Ola, Flipkart, Oyo and Paytm."
   ]
  },
  {
   "cell_type": "code",
   "execution_count": 1,
   "metadata": {},
   "outputs": [],
   "source": [
    "import pandas as pd\n",
    "import numpy as np\n",
    "import matplotlib.pyplot as plt\n",
    "\n",
    "df = pd.read_csv(\"startup_funding.csv\")"
   ]
  },
  {
   "cell_type": "code",
   "execution_count": 2,
   "metadata": {},
   "outputs": [],
   "source": [
    "df[\"StartupName\"].replace(\"Olacabs\", \"Ola\", inplace = True)\n",
    "df[\"StartupName\"].replace(\"Ola Cabs\", \"Ola\", inplace = True)\n",
    "df[\"StartupName\"].replace(\"Olacabs\", \"Ola\", inplace = True)\n",
    "df[\"StartupName\"].replace(\"Oyorooms\", \"Oyo\", inplace = True)\n",
    "df[\"StartupName\"].replace(\"Oyo Rooms\", \"Oyo\", inplace = True)\n",
    "df[\"StartupName\"].replace(\"OYO Rooms\", \"Oyo\", inplace = True)\n",
    "df[\"StartupName\"].replace(\"OyoRooms\", \"Oyo\", inplace = True)\n",
    "df[\"StartupName\"].replace(\"OYOfit\", \"Oyo\", inplace = True)\n",
    "df[\"StartupName\"].replace(\"Flipkart.com\", \"Flipkart\", inplace = True)\n",
    "df[\"StartupName\"].replace(\"Paytm Marketplace\", \"Paytm\", inplace = True)"
   ]
  },
  {
   "cell_type": "code",
   "execution_count": 3,
   "metadata": {},
   "outputs": [],
   "source": [
    "df.dropna(subset=[\"InvestorsName\"], how=\"all\",inplace=True)\n",
    "df.dropna(subset=[\"InvestmentType\"], how=\"all\",inplace=True)\n",
    "df.dropna(subset=[\"StartupName\"], how=\"all\",inplace=True)\n",
    "\n",
    "df = df[(df[\"InvestmentType\"] == \"Private Equity\")]"
   ]
  },
  {
   "cell_type": "code",
   "execution_count": 4,
   "metadata": {},
   "outputs": [],
   "source": [
    "investors = np.array(df[\"InvestorsName\"])\n",
    "startup = np.array(df[\"StartupName\"])\n",
    "\n",
    "from collections import defaultdict\n",
    "d = defaultdict(list)\n",
    "\n",
    "for i in range(len(investors)):\n",
    "    currStartup = startup[i]\n",
    "    currInvestor = investors[i]\n",
    "    name = currInvestor.split(',')\n",
    "    for j in name:\n",
    "        j = j.strip()\n",
    "        if j == '' or j == ' ' or \"Undisclosed\" in j or \"undisclosed\" in j:\n",
    "            continue\n",
    "        d[j].append(currStartup)"
   ]
  },
  {
   "cell_type": "code",
   "execution_count": 5,
   "metadata": {},
   "outputs": [],
   "source": [
    "d2 = {}\n",
    "for i in d:\n",
    "    a = np.array(d[i])\n",
    "    d2[i] = len(np.unique(a))\n",
    "\n",
    "ans = sorted(d2.items(), key = lambda x:x[1], reverse = True)[:5]"
   ]
  },
  {
   "cell_type": "code",
   "execution_count": 6,
   "metadata": {},
   "outputs": [
    {
     "name": "stdout",
     "output_type": "stream",
     "text": [
      "Sequoia Capital 45\n",
      "Accel Partners 43\n",
      "Kalaari Capital 35\n",
      "Blume Ventures 26\n",
      "SAIF Partners 24\n"
     ]
    }
   ],
   "source": [
    "st = []\n",
    "inv = []\n",
    "for i in ans:\n",
    "    print(i[0], i[1])\n",
    "    st.append(i[1])\n",
    "    inv.append(i[0])\n",
    "    "
   ]
  },
  {
   "cell_type": "code",
   "execution_count": 8,
   "metadata": {},
   "outputs": [
    {
     "data": {
      "image/png": "[encoded data removed]",
      "text/plain": [
       "<Figure size 432x288 with 1 Axes>"
      ]
     },
     "metadata": {},
     "output_type": "display_data"
    }
   ],
   "source": [
    "#VISUALIZATION\n",
    "\n",
    "# x = np.arange(5)\n",
    "# plt.bar(x, st, width = 0.5, color = \"Orange\")\n",
    "# plt.grid()\n",
    "# plt.xticks(x, inv, rotation = 40)\n",
    "# plt.title(\"Top Investors\")\n",
    "# plt.xlabel(\"Name of Investor\")\n",
    "# plt.ylabel(\"Number of times Invested\")\n",
    "# plt.show()\n",
    "\n",
    "#Pie chart\n",
    "plt.pie(st, labels = inv, colors = [\"darkcyan\", \"pink\", \"mediumseagreen\", \"deepskyblue\", \"firebrick\"], explode = [0.1, 0,0,0,0], autopct = \"%.2f %%\")\n",
    "plt.axis(\"equal\")\n",
    "plt.show()"
   ]
  },
  {
   "cell_type": "code",
   "execution_count": null,
   "metadata": {},
   "outputs": [],
   "source": []
  }
 ],
 "metadata": {
  "kernelspec": {
   "display_name": "Python 3",
   "language": "python",
   "name": "python3"
  },
  "language_info": {
   "codemirror_mode": {
    "name": "ipython",
    "version": 3
   },
   "file_extension": ".py",
   "mimetype": "text/x-python",
   "name": "python",
   "nbconvert_exporter": "python",
   "pygments_lexer": "ipython3",
   "version": "3.7.6"
  }
 },
 "nbformat": 4,
 "nbformat_minor": 4
}
