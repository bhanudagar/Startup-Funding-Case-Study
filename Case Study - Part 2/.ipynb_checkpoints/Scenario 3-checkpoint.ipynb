{
 "cells": [
  {
   "cell_type": "markdown",
   "metadata": {},
   "source": [
    "## Scenario 3:\n",
    "\n",
    "After re-analysing the dataset you found out that some investors have invested in the same startup at different number of funding rounds. So before finalising the previous list, you want to improvise it by finding the top 5 investors who have invested in different number of startups. This list will be more helpful than your previous list in finding the investment for your friend startup. Find the top 5 investors who have invested maximum number of times in different companies. That means, if one investor has invested multiple times in one startup, count one for that company. There are many errors in startup names. Ignore correcting all, just handle the important ones - Ola, Flipkart, Oyo and Paytm."
   ]
  },
  {
   "cell_type": "code",
   "execution_count": 11,
   "metadata": {},
   "outputs": [],
   "source": [
    "import pandas as pd\n",
    "import numpy as np\n",
    "import matplotlib.pyplot as plt\n",
    "\n",
    "df = pd.read_csv(\"startup_funding.csv\")"
   ]
  },
  {
   "cell_type": "code",
   "execution_count": 12,
   "metadata": {},
   "outputs": [],
   "source": [
    "df[\"StartupName\"].replace(\"Olacabs\", \"Ola\", inplace = True)\n",
    "df[\"StartupName\"].replace(\"Ola Cabs\", \"Ola\", inplace = True)\n",
    "df[\"StartupName\"].replace(\"Olacabs\", \"Ola\", inplace = True)\n",
    "df[\"StartupName\"].replace(\"Oyorooms\", \"Oyo\", inplace = True)\n",
    "df[\"StartupName\"].replace(\"Oyo Rooms\", \"Oyo\", inplace = True)\n",
    "df[\"StartupName\"].replace(\"OYO Rooms\", \"Oyo\", inplace = True)\n",
    "df[\"StartupName\"].replace(\"OyoRooms\", \"Oyo\", inplace = True)\n",
    "df[\"StartupName\"].replace(\"OYOfit\", \"Oyo\", inplace = True)\n",
    "df[\"StartupName\"].replace(\"Flipkart.com\", \"Flipkart\", inplace = True)\n",
    "df[\"StartupName\"].replace(\"Paytm Marketplace\", \"Paytm\", inplace = True)\n",
    "\n",
    "# print(df[\"InvestorsName\"].isnull().sum())\n",
    "# print(df[\"StartupName\"].isnull().sum())"
   ]
  },
  {
   "cell_type": "code",
   "execution_count": 13,
   "metadata": {},
   "outputs": [],
   "source": [
    "df.dropna(subset=[\"InvestorsName\"], how=\"all\",inplace=True)\n",
    "\n",
    "investors = np.array(df[\"InvestorsName\"])\n",
    "startup = np.array(df[\"StartupName\"])\n",
    "\n",
    "# print(len(investors))\n",
    "# print(len(startup))\n",
    "\n"
   ]
  },
  {
   "cell_type": "code",
   "execution_count": 14,
   "metadata": {},
   "outputs": [],
   "source": [
    "from collections import defaultdict\n",
    "d = defaultdict(list)\n",
    "\n",
    "for i in range(len(investors)):\n",
    "    currStartup = startup[i]\n",
    "    currInvestor = investors[i]\n",
    "    name = currInvestor.split(',')\n",
    "    for j in name:\n",
    "        j = j.strip()\n",
    "        if j == '' or j == ' ' or \"Undisclosed\" in j or \"undisclosed\" in j:\n",
    "            continue\n",
    "        d[j].append(currStartup)"
   ]
  },
  {
   "cell_type": "code",
   "execution_count": 15,
   "metadata": {},
   "outputs": [],
   "source": [
    "d2 = {}\n",
    "for i in d:\n",
    "    a = np.array(d[i])\n",
    "    d2[i] = len(np.unique(a))\n",
    "\n",
    "ans = sorted(d2.items(), key = lambda x:x[1], reverse = True)[:5]"
   ]
  },
  {
   "cell_type": "code",
   "execution_count": 16,
   "metadata": {},
   "outputs": [
    {
     "name": "stdout",
     "output_type": "stream",
     "text": [
      "Sequoia Capital 48\n",
      "Accel Partners 47\n",
      "Kalaari Capital 41\n",
      "Indian Angel Network 40\n",
      "Blume Ventures 36\n"
     ]
    }
   ],
   "source": [
    "st = []\n",
    "inv = []\n",
    "for i in ans:\n",
    "    print(i[0], i[1])\n",
    "    st.append(i[1])\n",
    "    inv.append(i[0])"
   ]
  },
  {
   "cell_type": "code",
   "execution_count": 19,
   "metadata": {},
   "outputs": [
    {
     "data": {
      "image/png": "[encoded data removed]",
      "text/plain": [
       "<Figure size 432x288 with 1 Axes>"
      ]
     },
     "metadata": {},
     "output_type": "display_data"
    }
   ],
   "source": [
    "#VISUALIZATION\n",
    "\n",
    "# x = np.arange(5)\n",
    "# plt.bar(x, st, width = 0.5, color = \"Orange\")\n",
    "# plt.grid()\n",
    "# plt.xticks(x, inv, rotation = 40)\n",
    "# plt.title(\"Top Investors\")\n",
    "# plt.xlabel(\"Name of Investor\")\n",
    "# plt.ylabel(\"Number of times Invested\")\n",
    "# plt.show()\n",
    "\n",
    "#Pie chart\n",
    "plt.pie(st, labels = inv, colors = [\"darkcyan\", \"pink\", \"mediumseagreen\", \"deepskyblue\", \"firebrick\"], explode = [0.1, 0,0,0,0], autopct = \"%.2f %%\")\n",
    "plt.axis(\"equal\")\n",
    "plt.show()"
   ]
  },
  {
   "cell_type": "code",
   "execution_count": null,
   "metadata": {},
   "outputs": [],
   "source": []
  }
 ],
 "metadata": {
  "kernelspec": {
   "display_name": "Python 3",
   "language": "python",
   "name": "python3"
  },
  "language_info": {
   "codemirror_mode": {
    "name": "ipython",
    "version": 3
   },
   "file_extension": ".py",
   "mimetype": "text/x-python",
   "name": "python",
   "nbconvert_exporter": "python",
   "pygments_lexer": "ipython3",
   "version": "3.7.6"
  }
 },
 "nbformat": 4,
 "nbformat_minor": 4
}
