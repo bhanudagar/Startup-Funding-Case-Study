{
 "cells": [
  {
   "cell_type": "markdown",
   "metadata": {},
   "source": [
    "## Question 1\n",
    "Your Friend has developed the Product and he wants to establish the product startup and he is searching for a perfect location where getting the investment has a high chance. But due to its financial restriction, he can choose only between three locations -  Bangalore, Mumbai, and NCR. As a friend, you want to help your friend deciding the location. NCR include Gurgaon, Noida and New Delhi. \n",
    "Find the location where the most number of funding is done. That means, find the location where startups has received funding maximum number of times. \n",
    "Plot the bar graph between location and number of funding. Take city name \"Delhi\" as \"New Delhi\". Check the case-sensitiveness of cities also. \n",
    "That means, at some place instead of \"Bangalore\", \"bangalore\" is given. Take city name as \"Bangalore\". For few startups multiple locations are given, one Indian and one Foreign. Consider the startup if any one of the city lies in given locations."
   ]
  },
  {
   "cell_type": "code",
   "execution_count": 40,
   "metadata": {},
   "outputs": [
    {
     "name": "stdout",
     "output_type": "stream",
     "text": [
      "NCR 709\n",
      "Bangalore 635\n",
      "Mumbai 449\n"
     ]
    },
    {
     "data": {
      "image/png": "[encoded data removed]",
      "text/plain": [
       "<matplotlib.figure.Figure at 0x142d32f3860>"
      ]
     },
     "metadata": {},
     "output_type": "display_data"
    }
   ],
   "source": [
    "import pandas as pd\n",
    "import numpy as np\n",
    "import matplotlib.pyplot as plt\n",
    "\n",
    "#opening the csv file\n",
    "df = pd.read_csv(\"startup_funding.csv\")\n",
    "\n",
    "#dealing with NA entries\n",
    "df[\"CityLocation\"].dropna(inplace = True)\n",
    "\n",
    "#Changing the given city names as given in the question\n",
    "df.CityLocation.replace(\"bangalore\", \"Bangalore\", inplace = True)\n",
    "df.CityLocation.replace(\"Delhi\", \"New Delhi\", inplace = True)\n",
    "\n",
    "#this function will give us first city in case of multiple cities\n",
    "def seperateCity (city):\n",
    "    return city.split('/')[0].strip()\n",
    "\n",
    "#applying the function above\n",
    "df[\"CityLocation\"] = df[\"CityLocation\"].apply(seperateCity)\n",
    "\n",
    "#creating the np arrays for city \n",
    "city = np.array(df[\"CityLocation\"])\n",
    "\n",
    "#dictionary for city:no.oftimes pair considering NCR as 1\n",
    "d = {}\n",
    "for i in range(len(city)):\n",
    "    cty = city[i]\n",
    "    if \"Bangalore\" == cty or \"Mumbai\" == cty:\n",
    "        d[cty] = d.get(cty, 0) + 1\n",
    "    elif 'New Delhi' == cty or 'Gurgaon' == cty or 'Noida' == cty:\n",
    "        d[\"NCR\"] = d.get(\"NCR\", 0) + 1\n",
    "        \n",
    "## Considering NCR as 3 different locations\n",
    "# d = {}\n",
    "# for i in range(len(city)):\n",
    "#     cty = city[i]\n",
    "#     if \"Bangalore\" == cty or \"Mumbai\" == cty or 'New Delhi' == cty or 'Gurgaon' == cty or 'Noida' == cty:\n",
    "#         d[cty] = d.get(cty, 0) + 1\n",
    "        \n",
    "        \n",
    "#sorting the dictionary on basis of value in decreasing order\n",
    "ans = sorted(d.items(), key = lambda x:x[1], reverse = True)\n",
    "\n",
    "#creating city and amount array to plot graphs using them\n",
    "city = []\n",
    "times = []\n",
    "for i in ans:\n",
    "    print(i[0], i[1])\n",
    "    city.append(i[0])\n",
    "    times.append(i[1])\n",
    "    \n",
    "#creating a bar graph\n",
    "x = np.arange(3)\n",
    "plt.bar(x, times, color = \"Orange\", alpha = 1)\n",
    "plt.grid()\n",
    "plt.xlabel(\"Locations\")\n",
    "plt.ylabel(\"Number of times received fundings\")\n",
    "plt.title(\"Fundings in Major Cities\")\n",
    "plt.xticks(x, city, rotation = 40)\n",
    "plt.show()\n",
    "\n",
    "#creating a pie chart\n",
    "# plt.pie(times, explode = [0.05, 0.04, 0.04], colors = [\"cadetblue\", \"Pink\", \"mediumseagreen\"], autopct = \"%.2f %%\")\n",
    "# plt.title(\"Fundings in major cities\")\n",
    "# plt.axis(\"equal\")\n",
    "# plt.legend(city)\n",
    "# plt.show()\n"
   ]
  },
  {
   "cell_type": "code",
   "execution_count": null,
   "metadata": {},
   "outputs": [],
   "source": []
  },
  {
   "cell_type": "code",
   "execution_count": null,
   "metadata": {
    "collapsed": true
   },
   "outputs": [],
   "source": []
  }
 ],
 "metadata": {
  "kernelspec": {
   "display_name": "Python 3",
   "language": "python",
   "name": "python3"
  },
  "language_info": {
   "codemirror_mode": {
    "name": "ipython",
    "version": 3
   },
   "file_extension": ".py",
   "mimetype": "text/x-python",
   "name": "python",
   "nbconvert_exporter": "python",
   "pygments_lexer": "ipython3",
   "version": "3.7.6"
  }
 },
 "nbformat": 4,
 "nbformat_minor": 2
}
